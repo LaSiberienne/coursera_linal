{
 "cells": [
  {
   "cell_type": "markdown",
   "metadata": {},
   "source": [
    "# Проецируем покемонов\n",
    "\n",
    "Мы увидим, что проекция — это не только действие полное геометрического смысла! С помощью проекции мы спрогнозируем силу атаки покемона, зная его силу защиты и скорость."
   ]
  },
  {
   "cell_type": "code",
   "execution_count": 35,
   "metadata": {},
   "outputs": [],
   "source": [
    "import numpy as np # массивы и математические операции\n",
    "import pandas as pd # работа с табличками\n",
    "import seaborn as sns # графики\n",
    "from sklearn.linear_model import LinearRegression # линейная регрессия\n",
    "from numpy.linalg import inv # обращение матрицы\n",
    "from numpy.linalg import solve # решение уравнений"
   ]
  },
  {
   "cell_type": "markdown",
   "metadata": {},
   "source": [
    "Данные о покемонах взяты с платформы kaggle, [https://www.kaggle.com/rounakbanik/pokemon](https://www.kaggle.com/rounakbanik/pokemon).\n",
    "\n",
    "Загружаем данные:"
   ]
  },
  {
   "cell_type": "code",
   "execution_count": 11,
   "metadata": {},
   "outputs": [],
   "source": [
    "poks = pd.read_csv('pokemon.csv')"
   ]
  },
  {
   "cell_type": "markdown",
   "metadata": {},
   "source": [
    "### Упражнение 0. Немножко осмотритесь по сторонам!"
   ]
  },
  {
   "cell_type": "code",
   "execution_count": null,
   "metadata": {},
   "outputs": [],
   "source": []
  },
  {
   "cell_type": "code",
   "execution_count": null,
   "metadata": {},
   "outputs": [],
   "source": []
  },
  {
   "cell_type": "code",
   "execution_count": null,
   "metadata": {},
   "outputs": [],
   "source": []
  },
  {
   "cell_type": "code",
   "execution_count": null,
   "metadata": {},
   "outputs": [],
   "source": []
  },
  {
   "cell_type": "markdown",
   "metadata": {},
   "source": [
    "### Упражнение 1. Проекция по формулам.\n",
    "\n",
    "В вектор $y$ поместите переменную $attack$, в матрицу $X$ поместите столбик из единиц, а также переменные $defense$ и $speed$. \n",
    "\n",
    "Постройте проекцию $\\hat{y}$ вектора $y$ на столбцы матрицы $X$ руководствуясь формулой $\\hat y = X(X'X)^{-1}X'y$. Условия первого порядка для весов с которыми столбцы $X$ входят в проекцию имеют вид $(X'X)v=X'y$.\n",
    "\n",
    "Используя формулу проекции, спрогнозируйте силу атаки покемона с защитой $defense=42$ и скоростью $speed=77$.\n",
    "\n",
    "Проверьте, что разница $y$ и проекции $\\hat y$ ортогональна столбцам $X$.\n"
   ]
  },
  {
   "cell_type": "code",
   "execution_count": null,
   "metadata": {},
   "outputs": [],
   "source": []
  },
  {
   "cell_type": "code",
   "execution_count": null,
   "metadata": {},
   "outputs": [],
   "source": []
  },
  {
   "cell_type": "code",
   "execution_count": null,
   "metadata": {},
   "outputs": [],
   "source": []
  },
  {
   "cell_type": "code",
   "execution_count": null,
   "metadata": {},
   "outputs": [],
   "source": []
  },
  {
   "cell_type": "code",
   "execution_count": null,
   "metadata": {},
   "outputs": [],
   "source": []
  },
  {
   "cell_type": "markdown",
   "metadata": {},
   "source": [
    "### Упражнение 2. Проекция с помощью боевого инструмента.\n",
    "\n",
    "Повторите первое упражнение с помощью линейной регрессии. Оцените регрессию $\\widehat{attack}_i = \\hat\\beta_1 + \\hat\\beta_2 defense_i + \\hat\\beta_2 speed_i$. Спрогнозируйте силу атаки покемона с защитой $defense=42$ и скоростью $speed=77$."
   ]
  },
  {
   "cell_type": "code",
   "execution_count": null,
   "metadata": {},
   "outputs": [],
   "source": []
  },
  {
   "cell_type": "code",
   "execution_count": null,
   "metadata": {},
   "outputs": [],
   "source": []
  },
  {
   "cell_type": "code",
   "execution_count": null,
   "metadata": {},
   "outputs": [],
   "source": []
  },
  {
   "cell_type": "code",
   "execution_count": null,
   "metadata": {},
   "outputs": [],
   "source": []
  },
  {
   "cell_type": "code",
   "execution_count": null,
   "metadata": {},
   "outputs": [],
   "source": []
  }
 ],
 "metadata": {
  "kernelspec": {
   "display_name": "Python 3",
   "language": "python",
   "name": "python3"
  },
  "language_info": {
   "codemirror_mode": {
    "name": "ipython",
    "version": 3
   },
   "file_extension": ".py",
   "mimetype": "text/x-python",
   "name": "python",
   "nbconvert_exporter": "python",
   "pygments_lexer": "ipython3",
   "version": "3.7.3"
  }
 },
 "nbformat": 4,
 "nbformat_minor": 4
}
