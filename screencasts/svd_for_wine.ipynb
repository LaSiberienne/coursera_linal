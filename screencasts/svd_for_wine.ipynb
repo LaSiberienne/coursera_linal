{
 "cells": [
  {
   "cell_type": "markdown",
   "metadata": {},
   "source": [
    "# Сингулярное разложение для вина\n",
    "\n",
    "Мы выполним сингулярное разложение множества характеристик вина. Создадим при этом две новые искусственные характеристики и посмотрим, чем они лучше."
   ]
  },
  {
   "cell_type": "code",
   "execution_count": 1,
   "metadata": {},
   "outputs": [],
   "source": [
    "import numpy as np # массивы и математические операции\n",
    "import pandas as pd # работа с табличками\n",
    "import seaborn as sns # графики\n",
    "from sklearn.preprocessing import StandardScaler # масштабируем данные\n",
    "from sklearn.decomposition import PCA # боевой svd с другим названием\n",
    "from numpy.linalg import svd # жемчужинка линейной алгебры"
   ]
  },
  {
   "cell_type": "markdown",
   "metadata": {},
   "source": [
    "Данные взяты с платформы kaggle, [https://www.kaggle.com/sadeghjalalian/wine-customer-segmentation](https://www.kaggle.com/sadeghjalalian/wine-customer-segmentation).\n",
    "\n",
    "\n",
    "Загружаем данные по вину:"
   ]
  },
  {
   "cell_type": "code",
   "execution_count": 2,
   "metadata": {},
   "outputs": [],
   "source": [
    "wine = pd.read_csv('Wine.csv')"
   ]
  },
  {
   "cell_type": "markdown",
   "metadata": {},
   "source": [
    "### Упражнение 0. Немножко осмотритесь по сторонам!"
   ]
  },
  {
   "cell_type": "code",
   "execution_count": null,
   "metadata": {},
   "outputs": [],
   "source": []
  },
  {
   "cell_type": "code",
   "execution_count": null,
   "metadata": {},
   "outputs": [],
   "source": []
  },
  {
   "cell_type": "code",
   "execution_count": null,
   "metadata": {},
   "outputs": [],
   "source": []
  },
  {
   "cell_type": "code",
   "execution_count": null,
   "metadata": {},
   "outputs": [],
   "source": []
  },
  {
   "cell_type": "markdown",
   "metadata": {},
   "source": [
    "### Упражнение 1. Сингулярное разложение руками.\n",
    "\n",
    "Возьмите все переменные кроме `Customer_Segment`. Отмасштабируйте каждую по формуле:\n",
    "\n",
    "$$x_i \\to \\frac{x_i - \\bar x}{se(x)}$$\n",
    "\n",
    "где \n",
    "\n",
    "$$\\bar x = \\frac{x_1 + x_2 + \\ldots + x_n}{n}, \\quad se(x) = \\sqrt{\\frac{\\sum_{i=1}^n(x_i - \\bar x)^2}{n-1}}.$$\n",
    "\n",
    "Для полученной матрицы $X$ выполните сингулярное разложение: $X = U\\Sigma V^T$.\n",
    "\n",
    "На базе сингулярного разложения создайте две первые главные компоненты и изобразите исходные данные отложив первые две компоненты по осям. \n",
    "\n",
    "Какой процент общего разброса данных объясняют первые две компоненты?"
   ]
  },
  {
   "cell_type": "code",
   "execution_count": null,
   "metadata": {},
   "outputs": [],
   "source": []
  },
  {
   "cell_type": "code",
   "execution_count": null,
   "metadata": {},
   "outputs": [],
   "source": []
  },
  {
   "cell_type": "code",
   "execution_count": null,
   "metadata": {},
   "outputs": [],
   "source": []
  },
  {
   "cell_type": "code",
   "execution_count": null,
   "metadata": {},
   "outputs": [],
   "source": []
  },
  {
   "cell_type": "code",
   "execution_count": null,
   "metadata": {},
   "outputs": [],
   "source": []
  },
  {
   "cell_type": "code",
   "execution_count": null,
   "metadata": {},
   "outputs": [],
   "source": []
  },
  {
   "cell_type": "markdown",
   "metadata": {},
   "source": [
    "### Упражнение 2. Метод главных компонент.\n",
    "\n",
    "Повторите первое упражнение используя готовую реализацию метода главных компонент из `sklearn`. Изобразите исходные данные в осях первых двух главных компонент. \n",
    "\n",
    "Какой процент общего разброса данных объясняют первые две компоненты?"
   ]
  },
  {
   "cell_type": "code",
   "execution_count": null,
   "metadata": {},
   "outputs": [],
   "source": []
  },
  {
   "cell_type": "code",
   "execution_count": null,
   "metadata": {},
   "outputs": [],
   "source": []
  },
  {
   "cell_type": "code",
   "execution_count": null,
   "metadata": {},
   "outputs": [],
   "source": []
  },
  {
   "cell_type": "code",
   "execution_count": null,
   "metadata": {},
   "outputs": [],
   "source": []
  },
  {
   "cell_type": "code",
   "execution_count": null,
   "metadata": {},
   "outputs": [],
   "source": []
  },
  {
   "cell_type": "code",
   "execution_count": null,
   "metadata": {},
   "outputs": [],
   "source": []
  }
 ],
 "metadata": {
  "kernelspec": {
   "display_name": "Python 3",
   "language": "python",
   "name": "python3"
  },
  "language_info": {
   "codemirror_mode": {
    "name": "ipython",
    "version": 3
   },
   "file_extension": ".py",
   "mimetype": "text/x-python",
   "name": "python",
   "nbconvert_exporter": "python",
   "pygments_lexer": "ipython3",
   "version": "3.7.3"
  }
 },
 "nbformat": 4,
 "nbformat_minor": 4
}
